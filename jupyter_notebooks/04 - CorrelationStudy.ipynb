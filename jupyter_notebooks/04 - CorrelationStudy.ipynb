{
  "cells": [
    {
      "cell_type": "markdown",
      "metadata": {
        "id": "0aStgWSO0E0E"
      },
      "source": [
        "# **Sale Price Correlation Study**"
      ]
    },
    {
      "cell_type": "markdown",
      "metadata": {
        "id": "1eLEkw5O0ECa"
      },
      "source": [
        "## Objectives\n",
        "\n",
        "* Identify variables with most significant correlation to the sale price \n",
        "to answer the first business requirement.\n",
        "\n",
        "## Inputs\n",
        "\n",
        "* outputs/datasets/cleaned/FullSetCleaned.csv\n",
        "\n",
        "## Outputs\n",
        "\n",
        "* Explanations of analysis and visualisations to back up strategic approach.\n",
        "* Generate code to satisfy Business Requirement 1 and can be used on the\n",
        "Streamlit app.\n",
        "\n",
        "## Crisp-DM\n",
        "\n",
        "* Data Understanding\n"
      ]
    },
    {
      "cell_type": "markdown",
      "metadata": {
        "id": "9uWZXH9LwoQg"
      },
      "source": [
        "---"
      ]
    },
    {
      "cell_type": "markdown",
      "metadata": {
        "id": "cqP-UeN-z3i2"
      },
      "source": [
        "# Change working directory"
      ]
    },
    {
      "cell_type": "markdown",
      "metadata": {},
      "source": [
        "* We are assuming you will store the notebooks in a subfolder, therefore when running the notebook in the editor, you will need to change the working directory"
      ]
    },
    {
      "cell_type": "markdown",
      "metadata": {
        "id": "aOGIGS-uz3i2"
      },
      "source": [
        "We need to change the working directory from its current folder to its parent folder\n",
        "* We access the current directory with os.getcwd()"
      ]
    },
    {
      "cell_type": "code",
      "execution_count": 1,
      "metadata": {
        "id": "wZfF_j-Bz3i4",
        "outputId": "66943449-1436-4c3d-85c7-b85f9f78349b"
      },
      "outputs": [
        {
          "data": {
            "text/plain": [
              "'/workspaces/house-prices-ml/jupyter_notebooks'"
            ]
          },
          "execution_count": 1,
          "metadata": {},
          "output_type": "execute_result"
        }
      ],
      "source": [
        "import os\n",
        "current_dir = os.getcwd()\n",
        "current_dir"
      ]
    },
    {
      "cell_type": "markdown",
      "metadata": {
        "id": "9MWW8E7lz3i7"
      },
      "source": [
        "We want to make the parent of the current directory the new current directory\n",
        "* os.path.dirname() gets the parent directory\n",
        "* os.chir() defines the new current directory"
      ]
    },
    {
      "cell_type": "code",
      "execution_count": 2,
      "metadata": {
        "id": "TwHsQRWjz3i9",
        "outputId": "86849db3-cd2f-4cc5-ebb8-2d0caafa1a2c"
      },
      "outputs": [
        {
          "name": "stdout",
          "output_type": "stream",
          "text": [
            "You set a new current directory\n"
          ]
        }
      ],
      "source": [
        "os.chdir(os.path.dirname(current_dir))\n",
        "print(\"You set a new current directory\")"
      ]
    },
    {
      "cell_type": "markdown",
      "metadata": {
        "id": "M_xPk_Ijz3i-"
      },
      "source": [
        "Confirm the new current directory"
      ]
    },
    {
      "cell_type": "code",
      "execution_count": 3,
      "metadata": {
        "id": "vz3S-_kjz3jA",
        "outputId": "00b79ae4-75d0-4a96-d193-ac9ef9847ea2"
      },
      "outputs": [
        {
          "data": {
            "text/plain": [
              "'/workspaces/house-prices-ml'"
            ]
          },
          "execution_count": 3,
          "metadata": {},
          "output_type": "execute_result"
        }
      ],
      "source": [
        "current_dir = os.getcwd()\n",
        "current_dir"
      ]
    },
    {
      "cell_type": "markdown",
      "metadata": {
        "id": "-mavJ8DibrcQ"
      },
      "source": [
        "# Load Data"
      ]
    },
    {
      "cell_type": "markdown",
      "metadata": {},
      "source": [
        "Load data and display head to check that it has been loaded."
      ]
    },
    {
      "cell_type": "code",
      "execution_count": 4,
      "metadata": {},
      "outputs": [
        {
          "name": "stdout",
          "output_type": "stream",
          "text": [
            "Sales Data\n"
          ]
        },
        {
          "data": {
            "text/html": [
              "<div>\n",
              "<style scoped>\n",
              "    .dataframe tbody tr th:only-of-type {\n",
              "        vertical-align: middle;\n",
              "    }\n",
              "\n",
              "    .dataframe tbody tr th {\n",
              "        vertical-align: top;\n",
              "    }\n",
              "\n",
              "    .dataframe thead th {\n",
              "        text-align: right;\n",
              "    }\n",
              "</style>\n",
              "<table border=\"1\" class=\"dataframe\">\n",
              "  <thead>\n",
              "    <tr style=\"text-align: right;\">\n",
              "      <th></th>\n",
              "      <th>1stFlrSF</th>\n",
              "      <th>2ndFlrSF</th>\n",
              "      <th>BedroomAbvGr</th>\n",
              "      <th>BsmtExposure</th>\n",
              "      <th>BsmtFinSF1</th>\n",
              "      <th>BsmtFinType1</th>\n",
              "      <th>BsmtUnfSF</th>\n",
              "      <th>EnclosedPorch</th>\n",
              "      <th>GarageArea</th>\n",
              "      <th>GarageFinish</th>\n",
              "      <th>...</th>\n",
              "      <th>LotFrontage</th>\n",
              "      <th>MasVnrArea</th>\n",
              "      <th>OpenPorchSF</th>\n",
              "      <th>OverallCond</th>\n",
              "      <th>OverallQual</th>\n",
              "      <th>TotalBsmtSF</th>\n",
              "      <th>WoodDeckSF</th>\n",
              "      <th>YearBuilt</th>\n",
              "      <th>YearRemodAdd</th>\n",
              "      <th>SalePrice</th>\n",
              "    </tr>\n",
              "  </thead>\n",
              "  <tbody>\n",
              "    <tr>\n",
              "      <th>0</th>\n",
              "      <td>864</td>\n",
              "      <td>0.0</td>\n",
              "      <td>3.0</td>\n",
              "      <td>No</td>\n",
              "      <td>432</td>\n",
              "      <td>ALQ</td>\n",
              "      <td>432</td>\n",
              "      <td>0.0</td>\n",
              "      <td>0</td>\n",
              "      <td>none</td>\n",
              "      <td>...</td>\n",
              "      <td>70.0</td>\n",
              "      <td>0.0</td>\n",
              "      <td>0</td>\n",
              "      <td>5</td>\n",
              "      <td>4</td>\n",
              "      <td>864</td>\n",
              "      <td>0.0</td>\n",
              "      <td>1971</td>\n",
              "      <td>1971</td>\n",
              "      <td>115000</td>\n",
              "    </tr>\n",
              "    <tr>\n",
              "      <th>1</th>\n",
              "      <td>864</td>\n",
              "      <td>0.0</td>\n",
              "      <td>3.0</td>\n",
              "      <td>No</td>\n",
              "      <td>398</td>\n",
              "      <td>ALQ</td>\n",
              "      <td>317</td>\n",
              "      <td>0.0</td>\n",
              "      <td>720</td>\n",
              "      <td>RFn</td>\n",
              "      <td>...</td>\n",
              "      <td>60.0</td>\n",
              "      <td>0.0</td>\n",
              "      <td>0</td>\n",
              "      <td>8</td>\n",
              "      <td>5</td>\n",
              "      <td>864</td>\n",
              "      <td>0.0</td>\n",
              "      <td>1950</td>\n",
              "      <td>2002</td>\n",
              "      <td>129000</td>\n",
              "    </tr>\n",
              "    <tr>\n",
              "      <th>2</th>\n",
              "      <td>840</td>\n",
              "      <td>828.0</td>\n",
              "      <td>3.0</td>\n",
              "      <td>No</td>\n",
              "      <td>0</td>\n",
              "      <td>none</td>\n",
              "      <td>840</td>\n",
              "      <td>0.0</td>\n",
              "      <td>500</td>\n",
              "      <td>RFn</td>\n",
              "      <td>...</td>\n",
              "      <td>72.0</td>\n",
              "      <td>101.0</td>\n",
              "      <td>68</td>\n",
              "      <td>5</td>\n",
              "      <td>7</td>\n",
              "      <td>840</td>\n",
              "      <td>0.0</td>\n",
              "      <td>2003</td>\n",
              "      <td>2003</td>\n",
              "      <td>180000</td>\n",
              "    </tr>\n",
              "    <tr>\n",
              "      <th>3</th>\n",
              "      <td>990</td>\n",
              "      <td>1611.0</td>\n",
              "      <td>4.0</td>\n",
              "      <td>No</td>\n",
              "      <td>0</td>\n",
              "      <td>Unf</td>\n",
              "      <td>612</td>\n",
              "      <td>0.0</td>\n",
              "      <td>621</td>\n",
              "      <td>RFn</td>\n",
              "      <td>...</td>\n",
              "      <td>51.0</td>\n",
              "      <td>0.0</td>\n",
              "      <td>0</td>\n",
              "      <td>6</td>\n",
              "      <td>5</td>\n",
              "      <td>612</td>\n",
              "      <td>0.0</td>\n",
              "      <td>1921</td>\n",
              "      <td>1998</td>\n",
              "      <td>189000</td>\n",
              "    </tr>\n",
              "    <tr>\n",
              "      <th>4</th>\n",
              "      <td>1496</td>\n",
              "      <td>636.0</td>\n",
              "      <td>1.0</td>\n",
              "      <td>Gd</td>\n",
              "      <td>1441</td>\n",
              "      <td>GLQ</td>\n",
              "      <td>55</td>\n",
              "      <td>0.0</td>\n",
              "      <td>612</td>\n",
              "      <td>Fin</td>\n",
              "      <td>...</td>\n",
              "      <td>79.0</td>\n",
              "      <td>0.0</td>\n",
              "      <td>40</td>\n",
              "      <td>8</td>\n",
              "      <td>8</td>\n",
              "      <td>1496</td>\n",
              "      <td>349.0</td>\n",
              "      <td>1983</td>\n",
              "      <td>2009</td>\n",
              "      <td>316600</td>\n",
              "    </tr>\n",
              "  </tbody>\n",
              "</table>\n",
              "<p>5 rows × 24 columns</p>\n",
              "</div>"
            ],
            "text/plain": [
              "   1stFlrSF  2ndFlrSF  BedroomAbvGr BsmtExposure  BsmtFinSF1 BsmtFinType1  \\\n",
              "0       864       0.0           3.0           No         432          ALQ   \n",
              "1       864       0.0           3.0           No         398          ALQ   \n",
              "2       840     828.0           3.0           No           0         none   \n",
              "3       990    1611.0           4.0           No           0          Unf   \n",
              "4      1496     636.0           1.0           Gd        1441          GLQ   \n",
              "\n",
              "   BsmtUnfSF  EnclosedPorch  GarageArea GarageFinish  ...  LotFrontage  \\\n",
              "0        432            0.0           0         none  ...         70.0   \n",
              "1        317            0.0         720          RFn  ...         60.0   \n",
              "2        840            0.0         500          RFn  ...         72.0   \n",
              "3        612            0.0         621          RFn  ...         51.0   \n",
              "4         55            0.0         612          Fin  ...         79.0   \n",
              "\n",
              "   MasVnrArea OpenPorchSF  OverallCond  OverallQual  TotalBsmtSF  WoodDeckSF  \\\n",
              "0         0.0           0            5            4          864         0.0   \n",
              "1         0.0           0            8            5          864         0.0   \n",
              "2       101.0          68            5            7          840         0.0   \n",
              "3         0.0           0            6            5          612         0.0   \n",
              "4         0.0          40            8            8         1496       349.0   \n",
              "\n",
              "   YearBuilt  YearRemodAdd  SalePrice  \n",
              "0       1971          1971     115000  \n",
              "1       1950          2002     129000  \n",
              "2       2003          2003     180000  \n",
              "3       1921          1998     189000  \n",
              "4       1983          2009     316600  \n",
              "\n",
              "[5 rows x 24 columns]"
            ]
          },
          "execution_count": 4,
          "metadata": {},
          "output_type": "execute_result"
        }
      ],
      "source": [
        "import pandas as pd\n",
        "df_sales = pd.read_csv(\"outputs/datasets/cleaned/FullSetCleaned.csv\")\n",
        "print(\"Sales Data\")\n",
        "df_sales.head()\n"
      ]
    },
    {
      "cell_type": "markdown",
      "metadata": {
        "id": "ZY3l0-AxO93d"
      },
      "source": [
        "---"
      ]
    },
    {
      "cell_type": "markdown",
      "metadata": {
        "id": "uFQo3ycuO-v6"
      },
      "source": [
        "# Dataset Analysis "
      ]
    },
    {
      "cell_type": "markdown",
      "metadata": {},
      "source": [
        "### Observations from profiling\n"
      ]
    },
    {
      "cell_type": "markdown",
      "metadata": {},
      "source": [
        "Our data has 4 categorical variables which must be converted to a numerical data type values to facilitate the correlation calculations.\n",
        "\n",
        "For this we will use the OneHotEncoder function."
      ]
    },
    {
      "cell_type": "code",
      "execution_count": 5,
      "metadata": {},
      "outputs": [
        {
          "name": "stdout",
          "output_type": "stream",
          "text": [
            "(1460, 40)\n"
          ]
        },
        {
          "data": {
            "text/html": [
              "<div>\n",
              "<style scoped>\n",
              "    .dataframe tbody tr th:only-of-type {\n",
              "        vertical-align: middle;\n",
              "    }\n",
              "\n",
              "    .dataframe tbody tr th {\n",
              "        vertical-align: top;\n",
              "    }\n",
              "\n",
              "    .dataframe thead th {\n",
              "        text-align: right;\n",
              "    }\n",
              "</style>\n",
              "<table border=\"1\" class=\"dataframe\">\n",
              "  <thead>\n",
              "    <tr style=\"text-align: right;\">\n",
              "      <th></th>\n",
              "      <th>1stFlrSF</th>\n",
              "      <th>2ndFlrSF</th>\n",
              "      <th>BedroomAbvGr</th>\n",
              "      <th>BsmtFinSF1</th>\n",
              "      <th>BsmtUnfSF</th>\n",
              "      <th>EnclosedPorch</th>\n",
              "      <th>GarageArea</th>\n",
              "      <th>GarageYrBlt</th>\n",
              "      <th>GrLivArea</th>\n",
              "      <th>LotArea</th>\n",
              "      <th>...</th>\n",
              "      <th>BsmtFinType1_Rec</th>\n",
              "      <th>BsmtFinType1_BLQ</th>\n",
              "      <th>GarageFinish_none</th>\n",
              "      <th>GarageFinish_RFn</th>\n",
              "      <th>GarageFinish_Fin</th>\n",
              "      <th>GarageFinish_Unf</th>\n",
              "      <th>KitchenQual_TA</th>\n",
              "      <th>KitchenQual_Gd</th>\n",
              "      <th>KitchenQual_Ex</th>\n",
              "      <th>KitchenQual_Fa</th>\n",
              "    </tr>\n",
              "  </thead>\n",
              "  <tbody>\n",
              "    <tr>\n",
              "      <th>0</th>\n",
              "      <td>864</td>\n",
              "      <td>0.0</td>\n",
              "      <td>3.0</td>\n",
              "      <td>432</td>\n",
              "      <td>432</td>\n",
              "      <td>0.0</td>\n",
              "      <td>0</td>\n",
              "      <td>1980.0</td>\n",
              "      <td>864</td>\n",
              "      <td>10500</td>\n",
              "      <td>...</td>\n",
              "      <td>0</td>\n",
              "      <td>0</td>\n",
              "      <td>1</td>\n",
              "      <td>0</td>\n",
              "      <td>0</td>\n",
              "      <td>0</td>\n",
              "      <td>1</td>\n",
              "      <td>0</td>\n",
              "      <td>0</td>\n",
              "      <td>0</td>\n",
              "    </tr>\n",
              "    <tr>\n",
              "      <th>1</th>\n",
              "      <td>864</td>\n",
              "      <td>0.0</td>\n",
              "      <td>3.0</td>\n",
              "      <td>398</td>\n",
              "      <td>317</td>\n",
              "      <td>0.0</td>\n",
              "      <td>720</td>\n",
              "      <td>1980.0</td>\n",
              "      <td>864</td>\n",
              "      <td>7200</td>\n",
              "      <td>...</td>\n",
              "      <td>0</td>\n",
              "      <td>0</td>\n",
              "      <td>0</td>\n",
              "      <td>1</td>\n",
              "      <td>0</td>\n",
              "      <td>0</td>\n",
              "      <td>0</td>\n",
              "      <td>1</td>\n",
              "      <td>0</td>\n",
              "      <td>0</td>\n",
              "    </tr>\n",
              "    <tr>\n",
              "      <th>2</th>\n",
              "      <td>840</td>\n",
              "      <td>828.0</td>\n",
              "      <td>3.0</td>\n",
              "      <td>0</td>\n",
              "      <td>840</td>\n",
              "      <td>0.0</td>\n",
              "      <td>500</td>\n",
              "      <td>2003.0</td>\n",
              "      <td>1668</td>\n",
              "      <td>11317</td>\n",
              "      <td>...</td>\n",
              "      <td>0</td>\n",
              "      <td>0</td>\n",
              "      <td>0</td>\n",
              "      <td>1</td>\n",
              "      <td>0</td>\n",
              "      <td>0</td>\n",
              "      <td>0</td>\n",
              "      <td>1</td>\n",
              "      <td>0</td>\n",
              "      <td>0</td>\n",
              "    </tr>\n",
              "    <tr>\n",
              "      <th>3</th>\n",
              "      <td>990</td>\n",
              "      <td>1611.0</td>\n",
              "      <td>4.0</td>\n",
              "      <td>0</td>\n",
              "      <td>612</td>\n",
              "      <td>0.0</td>\n",
              "      <td>621</td>\n",
              "      <td>1998.0</td>\n",
              "      <td>2601</td>\n",
              "      <td>9842</td>\n",
              "      <td>...</td>\n",
              "      <td>0</td>\n",
              "      <td>0</td>\n",
              "      <td>0</td>\n",
              "      <td>1</td>\n",
              "      <td>0</td>\n",
              "      <td>0</td>\n",
              "      <td>1</td>\n",
              "      <td>0</td>\n",
              "      <td>0</td>\n",
              "      <td>0</td>\n",
              "    </tr>\n",
              "    <tr>\n",
              "      <th>4</th>\n",
              "      <td>1496</td>\n",
              "      <td>636.0</td>\n",
              "      <td>1.0</td>\n",
              "      <td>1441</td>\n",
              "      <td>55</td>\n",
              "      <td>0.0</td>\n",
              "      <td>612</td>\n",
              "      <td>1983.0</td>\n",
              "      <td>2132</td>\n",
              "      <td>12327</td>\n",
              "      <td>...</td>\n",
              "      <td>0</td>\n",
              "      <td>0</td>\n",
              "      <td>0</td>\n",
              "      <td>0</td>\n",
              "      <td>1</td>\n",
              "      <td>0</td>\n",
              "      <td>0</td>\n",
              "      <td>1</td>\n",
              "      <td>0</td>\n",
              "      <td>0</td>\n",
              "    </tr>\n",
              "  </tbody>\n",
              "</table>\n",
              "<p>5 rows × 40 columns</p>\n",
              "</div>"
            ],
            "text/plain": [
              "   1stFlrSF  2ndFlrSF  BedroomAbvGr  BsmtFinSF1  BsmtUnfSF  EnclosedPorch  \\\n",
              "0       864       0.0           3.0         432        432            0.0   \n",
              "1       864       0.0           3.0         398        317            0.0   \n",
              "2       840     828.0           3.0           0        840            0.0   \n",
              "3       990    1611.0           4.0           0        612            0.0   \n",
              "4      1496     636.0           1.0        1441         55            0.0   \n",
              "\n",
              "   GarageArea  GarageYrBlt  GrLivArea  LotArea  ...  BsmtFinType1_Rec  \\\n",
              "0           0       1980.0        864    10500  ...                 0   \n",
              "1         720       1980.0        864     7200  ...                 0   \n",
              "2         500       2003.0       1668    11317  ...                 0   \n",
              "3         621       1998.0       2601     9842  ...                 0   \n",
              "4         612       1983.0       2132    12327  ...                 0   \n",
              "\n",
              "   BsmtFinType1_BLQ  GarageFinish_none  GarageFinish_RFn  GarageFinish_Fin  \\\n",
              "0                 0                  1                 0                 0   \n",
              "1                 0                  0                 1                 0   \n",
              "2                 0                  0                 1                 0   \n",
              "3                 0                  0                 1                 0   \n",
              "4                 0                  0                 0                 1   \n",
              "\n",
              "   GarageFinish_Unf  KitchenQual_TA  KitchenQual_Gd  KitchenQual_Ex  \\\n",
              "0                 0               1               0               0   \n",
              "1                 0               0               1               0   \n",
              "2                 0               0               1               0   \n",
              "3                 0               1               0               0   \n",
              "4                 0               0               1               0   \n",
              "\n",
              "   KitchenQual_Fa  \n",
              "0               0  \n",
              "1               0  \n",
              "2               0  \n",
              "3               0  \n",
              "4               0  \n",
              "\n",
              "[5 rows x 40 columns]"
            ]
          },
          "execution_count": 5,
          "metadata": {},
          "output_type": "execute_result"
        }
      ],
      "source": [
        "from feature_engine.encoding import OneHotEncoder\n",
        "encoder = OneHotEncoder(variables=df_sales.columns[df_sales.dtypes=='object'].to_list(), drop_last=False)\n",
        "df_ohe = encoder.fit_transform(df_sales)\n",
        "print(df_ohe.shape)\n",
        "df_ohe.head(5)\n"
      ]
    },
    {
      "cell_type": "markdown",
      "metadata": {
        "vscode": {
          "languageId": "bat"
        }
      },
      "source": [
        "As expected, our dataset now has additional columns (total of 40). This is due to OneHotEncoder translating each category into its own column, and assigning a value of 1 or 0. A value of 1 means the property has this category. "
      ]
    },
    {
      "cell_type": "markdown",
      "metadata": {},
      "source": [
        "### Correlation Functions"
      ]
    },
    {
      "cell_type": "markdown",
      "metadata": {},
      "source": [
        "Now we use the corr() function with spearman and pearson methods to determine which variables warrant further investigation.\n"
      ]
    },
    {
      "cell_type": "code",
      "execution_count": 6,
      "metadata": {},
      "outputs": [
        {
          "data": {
            "text/plain": [
              "OverallQual       0.809829\n",
              "GrLivArea         0.731310\n",
              "YearBuilt         0.652682\n",
              "GarageArea        0.649379\n",
              "TotalBsmtSF       0.602725\n",
              "KitchenQual_TA   -0.581803\n",
              "1stFlrSF          0.575408\n",
              "YearRemodAdd      0.571159\n",
              "GarageYrBlt       0.563256\n",
              "KitchenQual_Gd    0.478583\n",
              "Name: SalePrice, dtype: float64"
            ]
          },
          "execution_count": 6,
          "metadata": {},
          "output_type": "execute_result"
        }
      ],
      "source": [
        "corr_spearman = df_ohe.corr(method='spearman')['SalePrice'].sort_values(key=abs, ascending=False)[1:]\n",
        "corr_spearman.head(10)"
      ]
    },
    {
      "cell_type": "code",
      "execution_count": 7,
      "metadata": {},
      "outputs": [
        {
          "data": {
            "text/plain": [
              "OverallQual       0.790982\n",
              "GrLivArea         0.708624\n",
              "GarageArea        0.623431\n",
              "TotalBsmtSF       0.613581\n",
              "1stFlrSF          0.605852\n",
              "YearBuilt         0.522897\n",
              "KitchenQual_TA   -0.519298\n",
              "YearRemodAdd      0.507101\n",
              "KitchenQual_Ex    0.504094\n",
              "MasVnrArea        0.472614\n",
              "Name: SalePrice, dtype: float64"
            ]
          },
          "execution_count": 7,
          "metadata": {},
          "output_type": "execute_result"
        }
      ],
      "source": [
        "corr_pearson = df_ohe.corr(method='pearson')['SalePrice'].sort_values(key=abs, ascending=False)[1:]\n",
        "corr_pearson.head(10)"
      ]
    },
    {
      "cell_type": "markdown",
      "metadata": {},
      "source": [
        "Now we combine the outputs, adding the two correlation values for a single result to evaluate."
      ]
    },
    {
      "cell_type": "code",
      "execution_count": 14,
      "metadata": {},
      "outputs": [
        {
          "data": {
            "text/html": [
              "<div>\n",
              "<style scoped>\n",
              "    .dataframe tbody tr th:only-of-type {\n",
              "        vertical-align: middle;\n",
              "    }\n",
              "\n",
              "    .dataframe tbody tr th {\n",
              "        vertical-align: top;\n",
              "    }\n",
              "\n",
              "    .dataframe thead th {\n",
              "        text-align: right;\n",
              "    }\n",
              "</style>\n",
              "<table border=\"1\" class=\"dataframe\">\n",
              "  <thead>\n",
              "    <tr style=\"text-align: right;\">\n",
              "      <th></th>\n",
              "      <th>Feature</th>\n",
              "      <th>Score</th>\n",
              "      <th>Spearman</th>\n",
              "      <th>Pearson</th>\n",
              "    </tr>\n",
              "  </thead>\n",
              "  <tbody>\n",
              "    <tr>\n",
              "      <th>OverallQual</th>\n",
              "      <td>OverallQual</td>\n",
              "      <td>1.600810</td>\n",
              "      <td>0.809829</td>\n",
              "      <td>0.790982</td>\n",
              "    </tr>\n",
              "    <tr>\n",
              "      <th>GrLivArea</th>\n",
              "      <td>GrLivArea</td>\n",
              "      <td>1.439934</td>\n",
              "      <td>0.731310</td>\n",
              "      <td>0.708624</td>\n",
              "    </tr>\n",
              "    <tr>\n",
              "      <th>GarageArea</th>\n",
              "      <td>GarageArea</td>\n",
              "      <td>1.272810</td>\n",
              "      <td>0.649379</td>\n",
              "      <td>0.623431</td>\n",
              "    </tr>\n",
              "    <tr>\n",
              "      <th>TotalBsmtSF</th>\n",
              "      <td>TotalBsmtSF</td>\n",
              "      <td>1.216306</td>\n",
              "      <td>0.602725</td>\n",
              "      <td>0.613581</td>\n",
              "    </tr>\n",
              "    <tr>\n",
              "      <th>1stFlrSF</th>\n",
              "      <td>1stFlrSF</td>\n",
              "      <td>1.181260</td>\n",
              "      <td>0.575408</td>\n",
              "      <td>0.605852</td>\n",
              "    </tr>\n",
              "    <tr>\n",
              "      <th>YearBuilt</th>\n",
              "      <td>YearBuilt</td>\n",
              "      <td>1.175579</td>\n",
              "      <td>0.652682</td>\n",
              "      <td>0.522897</td>\n",
              "    </tr>\n",
              "    <tr>\n",
              "      <th>YearRemodAdd</th>\n",
              "      <td>YearRemodAdd</td>\n",
              "      <td>1.078260</td>\n",
              "      <td>0.571159</td>\n",
              "      <td>0.507101</td>\n",
              "    </tr>\n",
              "    <tr>\n",
              "      <th>GarageYrBlt</th>\n",
              "      <td>GarageYrBlt</td>\n",
              "      <td>1.030010</td>\n",
              "      <td>0.563256</td>\n",
              "      <td>0.466754</td>\n",
              "    </tr>\n",
              "    <tr>\n",
              "      <th>MasVnrArea</th>\n",
              "      <td>MasVnrArea</td>\n",
              "      <td>0.888521</td>\n",
              "      <td>0.415906</td>\n",
              "      <td>0.472614</td>\n",
              "    </tr>\n",
              "    <tr>\n",
              "      <th>KitchenQual_Ex</th>\n",
              "      <td>KitchenQual_Ex</td>\n",
              "      <td>0.850480</td>\n",
              "      <td>0.346387</td>\n",
              "      <td>0.504094</td>\n",
              "    </tr>\n",
              "  </tbody>\n",
              "</table>\n",
              "</div>"
            ],
            "text/plain": [
              "                       Feature     Score  Spearman   Pearson\n",
              "OverallQual        OverallQual  1.600810  0.809829  0.790982\n",
              "GrLivArea            GrLivArea  1.439934  0.731310  0.708624\n",
              "GarageArea          GarageArea  1.272810  0.649379  0.623431\n",
              "TotalBsmtSF        TotalBsmtSF  1.216306  0.602725  0.613581\n",
              "1stFlrSF              1stFlrSF  1.181260  0.575408  0.605852\n",
              "YearBuilt            YearBuilt  1.175579  0.652682  0.522897\n",
              "YearRemodAdd      YearRemodAdd  1.078260  0.571159  0.507101\n",
              "GarageYrBlt        GarageYrBlt  1.030010  0.563256  0.466754\n",
              "MasVnrArea          MasVnrArea  0.888521  0.415906  0.472614\n",
              "KitchenQual_Ex  KitchenQual_Ex  0.850480  0.346387  0.504094"
            ]
          },
          "execution_count": 14,
          "metadata": {},
          "output_type": "execute_result"
        }
      ],
      "source": [
        "combined_corr = corr_spearman.add(corr_pearson, fill_value=0)\n",
        "\n",
        "# Convert to DataFrame and sort by total correlation value\n",
        "combined_corr = {\n",
        "    'Feature': combined_corr.index,\n",
        "    'Score': combined_corr.sort_values(ascending=False),\n",
        "    'Spearman': corr_spearman,\n",
        "    'Pearson': corr_pearson\n",
        "}\n",
        "\n",
        "combined_corr_df = pd.DataFrame.from_dict(combined_corr)\n",
        "combined_corr_df.sort_values(by='Score', ascending=False).head(10)"
      ]
    },
    {
      "cell_type": "markdown",
      "metadata": {},
      "source": [
        "To satisfy the business requirement, we will display the combined correlation scores in a bar plot."
      ]
    },
    {
      "cell_type": "code",
      "execution_count": 15,
      "metadata": {},
      "outputs": [
        {
          "data": {
            "image/png": "[encoded data removed]",
            "text/plain": [
              "<Figure size 1600x800 with 1 Axes>"
            ]
          },
          "metadata": {},
          "output_type": "display_data"
        }
      ],
      "source": [
        "import matplotlib.pyplot as plt\n",
        "import seaborn as sns\n",
        "\n",
        "\n",
        "# Define a new column for color categories\n",
        "combined_corr_df['Correlation Type'] = combined_corr_df['Score'].apply(lambda x: 'Strong' if x > 1.15 else 'Weak')\n",
        "\n",
        "# Define color mapping\n",
        "color_palette = {'Strong': 'green', 'Weak': 'blue'}\n",
        "\n",
        "# Create Seaborn bar chart\n",
        "plt.figure(figsize=(16, 8))\n",
        "ax = sns.barplot(x='Feature',\n",
        "                 y='Score',\n",
        "                 data=combined_corr_df.sort_values(by='Score', ascending=False).head(20)\n",
        "                 , hue='Correlation Type', palette=color_palette, legend=False)\n",
        "\n",
        "# Add a red horizontal line at 1.15\n",
        "plt.axhline(\n",
        "    y=1.15, color='red', linestyle='--', linewidth=2, label=\"Strong correlation threshold\"\n",
        "    )\n",
        "\n",
        "# Labels and title\n",
        "plt.xlabel('House Feature')\n",
        "plt.ylabel('Combined Correlation Score')\n",
        "plt.title('Top 20 correlations of SalePrice and Features')\n",
        "\n",
        "# Legend\n",
        "plt.legend(bbox_to_anchor=(1.0, 1), loc='upper right')\n",
        "\n",
        "# Rotate x-axis labels for better readability\n",
        "plt.xticks(rotation=45, ha='right')\n",
        "\n",
        "# Show plot\n",
        "plt.show()"
      ]
    },
    {
      "cell_type": "markdown",
      "metadata": {},
      "source": [
        "From here we will choose the top 6 variables for further analysis as the 4th, 5th and 6th in the list are very closely rated from our correlation calculations. "
      ]
    },
    {
      "cell_type": "code",
      "execution_count": null,
      "metadata": {},
      "outputs": [],
      "source": [
        "vars_to_study = [\n",
        "    'GrLivArea', 'GarageArea', 'TotalBsmtSF', '1stFlrSF','YearBuilt',\n",
        "    'OverallQual']\n"
      ]
    },
    {
      "cell_type": "markdown",
      "metadata": {},
      "source": [
        "### Bivariate study\n",
        "\n",
        "We will use scatter plots and box plots to visualise the relationships between our variables and the sale price. We will save the visualisations to display them on the dashboard.\n"
      ]
    },
    {
      "cell_type": "code",
      "execution_count": null,
      "metadata": {},
      "outputs": [],
      "source": [
        "import seaborn as sns\n",
        "\n",
        "for category in vars_to_study:\n",
        "    plt.figure()\n",
        "    sns.regplot(x=category, y=\"SalePrice\", data=df_sales, line_kws={\"color\": \"green\"}).set(\n",
        "        title=f'Scatter plot of SalePrice and {category}')\n",
        "    "
      ]
    },
    {
      "cell_type": "code",
      "execution_count": null,
      "metadata": {},
      "outputs": [],
      "source": [
        "plt.figure()\n",
        "sns.boxplot(x=\"OverallQual\", y=\"SalePrice\", hue=\"OverallQual\", data=df_sales, palette=\"bright\").set(\n",
        "    title=\"Box plot of SalePrice and OverallQual\")"
      ]
    },
    {
      "cell_type": "markdown",
      "metadata": {},
      "source": [
        "### Observations\n",
        "\n",
        "* 'GrLivArea' - The plot shows a positive correlation between GrLivArea and SalePrice.\n",
        "* 'GarageArea' - The plot shows a positive correlation between GarageArea and SalePrice. There are outliers at the top end of the plot showing the properties with the largest garage areas do not have a high sale price.\n",
        "* 'TotalBsmtSF' - The plot shows a very clear correlation between TotalBsmtSF and SalePrice. The higher the TotalBsmntSF value, the higher saleprice we can expect.\n",
        "* '1stFlrSF' - The high correlation between SalePrice and 1stFlrSF is reflected in the graph.\n",
        "* 'YearBuilt' - The scatter plot of Sale Price and Year Built shows the correlation and upward trend, with newer houses (built most recently) typically having a higher sale price.\n",
        "* 'OverallQual' - The scatter and box plots show a strong correlation between the overall quality of the house to the sale price. We can also see that houses with the highest quality rating have the greatest variance in sale price."
      ]
    },
    {
      "cell_type": "markdown",
      "metadata": {},
      "source": [
        "---"
      ]
    },
    {
      "cell_type": "markdown",
      "metadata": {},
      "source": [
        "## Hypothesis Testing\n",
        "\n",
        "### Hypothesis 1\n",
        "\n",
        "<strong>1: Larger houses have a higher sale price than smaller houses (area)\n",
        "</strong>\n",
        "\n",
        "To test this hypothesis we will consider all variables concerned with area.\n",
        "GrLivArea, GarageArea, 1stFlrSF.\n",
        "\n",
        "We will plot scatter graphs of each variable against the target variable \n",
        "SalePrice to visualise the correlation."
      ]
    },
    {
      "cell_type": "code",
      "execution_count": null,
      "metadata": {},
      "outputs": [],
      "source": [
        "hypothesis_vars = ['GrLivArea', 'GarageArea', '1stFlrSF']\n",
        "for category in hypothesis_vars:\n",
        "    plt.figure()\n",
        "    sns.regplot(\n",
        "        x=category, y=\"SalePrice\", data=df_sales, line_kws={\"color\": \"green\"}).set(\n",
        "        title=f'Scatter plot of SalePrice and {category}')"
      ]
    },
    {
      "cell_type": "markdown",
      "metadata": {},
      "source": [
        "The above plots show there is a positive relationship between SalePrice and each \n",
        "of the variables 'GarageArea', 'GrLivArea', 'TotalBsmtSF'. As the area increases\n",
        "so does the house price. \n",
        "\n",
        "<strong>Conclusion: </strong>The hypothesis is proved true - larger houses do command higher sale prices.\n"
      ]
    },
    {
      "cell_type": "markdown",
      "metadata": {},
      "source": [
        "### Hypothesis 2\n",
        "\n",
        "<strong>2: Newer houses, and recently remodelled / improved houses are more expensive than older houses.</strong>\n",
        "\n",
        "To test this hypothesis we will consider both variables concerned with years / time -\n",
        "'YearBuilt' and 'YearRemodAdd'.\n",
        "\n",
        "We will plot scatter graphs of both variables against the target variable \n",
        "SalePrice to visualise the correlation. "
      ]
    },
    {
      "cell_type": "code",
      "execution_count": null,
      "metadata": {},
      "outputs": [],
      "source": [
        "plt.figure()\n",
        "sns.regplot(\n",
        "        x='YearBuilt', y=\"SalePrice\", data=df_sales, line_kws={\"color\": \"green\"}).set(\n",
        "        title=f'Scatter plot of SalePrice and YearBuilt')"
      ]
    },
    {
      "cell_type": "code",
      "execution_count": null,
      "metadata": {},
      "outputs": [],
      "source": [
        "plt.figure()\n",
        "sns.regplot(\n",
        "        x='YearRemodAdd', y=\"SalePrice\", data=df_sales, line_kws={\"color\": \"green\"}).set(\n",
        "        title=f'Scatter plot of SalePrice and YearRemodAdd')"
      ]
    },
    {
      "cell_type": "markdown",
      "metadata": {},
      "source": [
        "The above plots show there is a positive correlation between SalePrice and each \n",
        "of the variables 'YearBuilt' and 'YearRemodAdd'. There is a noticable \n",
        "correlation between both variables that prove the hypothesis is true.\n",
        "\n",
        "<strong>Conclusion: </strong>\n",
        "The hypothesis is proved true - newer houses are more expensive than older houses."
      ]
    },
    {
      "cell_type": "markdown",
      "metadata": {},
      "source": [
        "### Hypothesis 3\n",
        "\n",
        "<strong>Houses in the best condition command the highest prices.</strong>"
      ]
    },
    {
      "cell_type": "markdown",
      "metadata": {},
      "source": [
        "To test this hypothesis we will consider the variable describing the overall \n",
        "condition of the house - 'OverallCond'. We are not concerend with the quality\n",
        "of the house for this hypothesis, only the condition of the house.\n",
        "\n",
        "\n",
        "We will use a boxplot to show the house conditions against the target variable \n",
        "to visualise the correlation. \n"
      ]
    },
    {
      "cell_type": "code",
      "execution_count": null,
      "metadata": {},
      "outputs": [],
      "source": [
        "plt.figure()\n",
        "sns.boxplot(x=\"OverallCond\", y=\"SalePrice\", hue=None, data=df_sales, palette=\"bright\").set(\n",
        "    title=\"Box plot of SalePrice and OverallQual\")\n",
        "\n",
        "plt.figure()\n",
        "sns.regplot(\n",
        "        x='OverallCond', y=\"SalePrice\", data=df_sales, line_kws={\"color\": \"green\"}).set(\n",
        "        title=f'Scatter plot of SalePrice and OverallCond')\n",
        "\n",
        "df_filtered = df_sales[df_sales[\"SalePrice\"] > 500000]\n",
        "sns.scatterplot(\n",
        "    x=df_sales[df_sales[\"SalePrice\"] > 500000][\"OverallCond\"], \n",
        "    y=df_sales[df_sales[\"SalePrice\"] > 500000][\"SalePrice\"], \n",
        "    color=\"orange\",  # Highlight points orange\n",
        "    edgecolor=\"black\",    \n",
        "    s=100,  # Increase marker size for emphasis\n",
        "    )\n",
        "plt.title('Scatter plot of SalePrice and OverallCond (Highlighting >500K)')\n",
        "plt.show()"
      ]
    },
    {
      "cell_type": "markdown",
      "metadata": {},
      "source": [
        "The above plots show the houses with the highest sale prices are not those in \n",
        "the best condition. There is a slight negative correlation between SalePrice\n",
        "and OverallCond. Houses with the best rating for overallcondition have not\n",
        "sold for over 500,000 USD. Many houses with an overallcond rating of 5 have \n",
        "a sale price in excess of 500,000 USD. An overall condition rating of 5 is the \n",
        "entry point for the highest sale prices.\n",
        "\n",
        "<strong>Conclusion: </strong>\n",
        "The hypothesis is proved false - houses with the highest sale prices are not those in \n",
        "the best condition. "
      ]
    },
    {
      "cell_type": "markdown",
      "metadata": {},
      "source": [
        "## Conclusions\n",
        "\n",
        "To summarise the analysis above, we can conclude:\n",
        "\n",
        "* Typically, larger houses have a higher sale price.\n",
        "* Typically, newer houses have a higher sale price.\n",
        "* The quality of the house correlates positively with the sale price.\n",
        "* An overall condition rating of at least 5 is required to achieve the highest sale prices.\n"
      ]
    },
    {
      "cell_type": "markdown",
      "metadata": {},
      "source": [
        "---"
      ]
    },
    {
      "cell_type": "markdown",
      "metadata": {},
      "source": [
        "## Save data\n",
        "\n",
        "Finally, we will save the correlation results for use in our Streamlit Dashboard.\n"
      ]
    },
    {
      "cell_type": "code",
      "execution_count": null,
      "metadata": {},
      "outputs": [],
      "source": [
        "import os\n",
        "try:\n",
        "  os.makedirs(name='outputs/datasets/correlationstudy') \n",
        "except Exception as e:\n",
        "  print(e)"
      ]
    },
    {
      "cell_type": "code",
      "execution_count": 16,
      "metadata": {},
      "outputs": [],
      "source": [
        "save_corr_df = combined_corr_df.sort_values(by='Score', ascending=False).head(20)\n",
        "save_corr_df.to_csv(\"outputs/datasets/correlationstudy/CorrelationResults.csv\", index=False)"
      ]
    }
  ],
  "metadata": {
    "accelerator": "GPU",
    "colab": {
      "name": "Data Practitioner Jupyter Notebook.ipynb",
      "provenance": [],
      "toc_visible": true
    },
    "kernelspec": {
      "display_name": "3.12.1",
      "language": "python",
      "name": "python3"
    },
    "language_info": {
      "codemirror_mode": {
        "name": "ipython",
        "version": 3
      },
      "file_extension": ".py",
      "mimetype": "text/x-python",
      "name": "python",
      "nbconvert_exporter": "python",
      "pygments_lexer": "ipython3",
      "version": "3.12.1"
    },
    "orig_nbformat": 2
  },
  "nbformat": 4,
  "nbformat_minor": 2
}
